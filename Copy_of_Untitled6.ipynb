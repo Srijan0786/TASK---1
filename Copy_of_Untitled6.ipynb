{
  "nbformat": 4,
  "nbformat_minor": 0,
  "metadata": {
    "colab": {
      "provenance": [],
      "authorship_tag": "ABX9TyPSD+9qmrjXNBinWMiCY1Hf",
      "include_colab_link": true
    },
    "kernelspec": {
      "name": "python3",
      "display_name": "Python 3"
    },
    "language_info": {
      "name": "python"
    }
  },
  "cells": [
    {
      "cell_type": "markdown",
      "metadata": {
        "id": "view-in-github",
        "colab_type": "text"
      },
      "source": [
        "<a href=\"https://colab.research.google.com/github/Srijan0786/TASK---1/blob/main/Copy_of_Untitled6.ipynb\" target=\"_parent\"><img src=\"https://colab.research.google.com/assets/colab-badge.svg\" alt=\"Open In Colab\"/></a>"
      ]
    },
    {
      "cell_type": "code",
      "source": [
        "# Stage 1:Hard coding variables\n",
        "a = 7.5\n",
        "b = -4\n",
        "c = 35\n",
        "x = 2\n",
        "\n",
        "# Quadratic calculation:y = ax^2 + bx + c\n",
        "y = a * x**2 + b * x + c\n",
        "\n",
        "print(f\"Predicted weather variable at x={x}: {y}\")\n"
      ],
      "metadata": {
        "colab": {
          "base_uri": "https://localhost:8080/"
        },
        "id": "ghZ_edTPQJKW",
        "outputId": "59b39af8-4eb3-4226-b1c4-862ea609e2d8"
      },
      "execution_count": null,
      "outputs": [
        {
          "output_type": "stream",
          "name": "stdout",
          "text": [
            "Predicted weather variable at x=2: 57.0\n"
          ]
        }
      ]
    },
    {
      "cell_type": "code",
      "source": [
        "# Stage 2:Keyboard input\n",
        "a = int(input(\"Enter a: \"))\n",
        "b = int(input(\"Enter b: \"))\n",
        "c = int(input(\"Enter c: \"))\n",
        "x = int(input(\"Enter x: \"))\n",
        "\n",
        "# Quadratic calculation:y = ax^2 + bx + c\n",
        "y = a * x^2 + b*x + c\n",
        "print(f\"Predicted weather variable at x={x}: {y}\")\n"
      ],
      "metadata": {
        "colab": {
          "base_uri": "https://localhost:8080/"
        },
        "id": "tbapyWhIRCZt",
        "outputId": "0ba94974-f6b9-4242-e95b-8f9060d84993"
      },
      "execution_count": null,
      "outputs": [
        {
          "output_type": "stream",
          "name": "stdout",
          "text": [
            "Enter a: 4\n",
            "Enter b: 3\n",
            "Enter c: 2\n",
            "Enter x: 1\n",
            "Predicted weather variable at x=1: 3\n"
          ]
        }
      ]
    },
    {
      "cell_type": "code",
      "source": [
        "# Stage 3:Read coefficients and x from a file (handles BOM)\n",
        "with open(\"data.txt\", \"r\", encoding=\"utf-8-sig\") as file: # Use encoding \"utf-8-sig\" when opening the file\n",
        "\n",
        "    line = file.readline()\n",
        "    a, b, c, x = map(float, line.split())\n",
        "\n",
        "T = a * x**2 + b * x + c\n",
        "print(f\"Predicted Temperature: {T:.2f}°C\")\n"
      ],
      "metadata": {
        "colab": {
          "base_uri": "https://localhost:8080/"
        },
        "id": "Leacp05zTd_m",
        "outputId": "ef6c7fa4-d154-4d7a-d572-06e3be6ce7d6"
      },
      "execution_count": null,
      "outputs": [
        {
          "output_type": "stream",
          "name": "stdout",
          "text": [
            "Predicted Temperature: 37.50°C\n"
          ]
        }
      ]
    },
    {
      "cell_type": "code",
      "source": [
        "#Stage 4:"
      ],
      "metadata": {
        "id": "YMLZVH5JUPfW"
      },
      "execution_count": null,
      "outputs": []
    }
  ]
}